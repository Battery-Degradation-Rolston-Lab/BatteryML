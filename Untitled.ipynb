{
 "cells": [
  {
   "cell_type": "code",
   "execution_count": null,
   "id": "8a23cbca-f782-40db-853a-49d9262a6aa9",
   "metadata": {},
   "outputs": [
    {
     "name": "stdout",
     "output_type": "stream",
     "text": [
      "workspaces\n",
      "<batteryml.pipeline.Pipeline object at 0x0000019B1DBA62A0>\n",
      "Seed is set to 0.\n",
      "[WindowsPath('processed_data/MATR_b1c1.pkl'), WindowsPath('processed_data/MATR_b1c3.pkl'), WindowsPath('processed_data/MATR_b1c5.pkl'), WindowsPath('processed_data/MATR_b1c7.pkl'), WindowsPath('processed_data/MATR_b1c11.pkl'), WindowsPath('processed_data/MATR_b1c15.pkl'), WindowsPath('processed_data/MATR_b1c17.pkl'), WindowsPath('processed_data/MATR_b1c19.pkl'), WindowsPath('processed_data/MATR_b1c21.pkl'), WindowsPath('processed_data/MATR_b1c24.pkl'), WindowsPath('processed_data/MATR_b1c26.pkl'), WindowsPath('processed_data/MATR_b1c28.pkl'), WindowsPath('processed_data/MATR_b1c30.pkl'), WindowsPath('processed_data/MATR_b1c32.pkl'), WindowsPath('processed_data/MATR_b1c34.pkl'), WindowsPath('processed_data/MATR_b1c36.pkl'), WindowsPath('processed_data/MATR_b1c38.pkl'), WindowsPath('processed_data/MATR_b1c40.pkl'), WindowsPath('processed_data/MATR_b1c42.pkl'), WindowsPath('processed_data/MATR_b1c44.pkl'), WindowsPath('processed_data/MATR_b2c0.pkl'), WindowsPath('processed_data/MATR_b2c2.pkl'), WindowsPath('processed_data/MATR_b2c4.pkl'), WindowsPath('processed_data/MATR_b2c6.pkl'), WindowsPath('processed_data/MATR_b2c11.pkl'), WindowsPath('processed_data/MATR_b2c13.pkl'), WindowsPath('processed_data/MATR_b2c17.pkl'), WindowsPath('processed_data/MATR_b2c19.pkl'), WindowsPath('processed_data/MATR_b2c21.pkl'), WindowsPath('processed_data/MATR_b2c23.pkl'), WindowsPath('processed_data/MATR_b2c25.pkl'), WindowsPath('processed_data/MATR_b2c27.pkl'), WindowsPath('processed_data/MATR_b2c29.pkl'), WindowsPath('processed_data/MATR_b2c31.pkl'), WindowsPath('processed_data/MATR_b2c33.pkl'), WindowsPath('processed_data/MATR_b2c35.pkl'), WindowsPath('processed_data/MATR_b2c37.pkl'), WindowsPath('processed_data/MATR_b2c39.pkl'), WindowsPath('processed_data/MATR_b2c41.pkl'), WindowsPath('processed_data/MATR_b2c43.pkl'), WindowsPath('processed_data/MATR_b2c45.pkl')] [WindowsPath('processed_data/MATR_b1c0.pkl'), WindowsPath('processed_data/MATR_b1c2.pkl'), WindowsPath('processed_data/MATR_b1c4.pkl'), WindowsPath('processed_data/MATR_b1c6.pkl'), WindowsPath('processed_data/MATR_b1c9.pkl'), WindowsPath('processed_data/MATR_b1c14.pkl'), WindowsPath('processed_data/MATR_b1c16.pkl'), WindowsPath('processed_data/MATR_b1c18.pkl'), WindowsPath('processed_data/MATR_b1c20.pkl'), WindowsPath('processed_data/MATR_b1c23.pkl'), WindowsPath('processed_data/MATR_b1c25.pkl'), WindowsPath('processed_data/MATR_b1c27.pkl'), WindowsPath('processed_data/MATR_b1c29.pkl'), WindowsPath('processed_data/MATR_b1c31.pkl'), WindowsPath('processed_data/MATR_b1c33.pkl'), WindowsPath('processed_data/MATR_b1c35.pkl'), WindowsPath('processed_data/MATR_b1c37.pkl'), WindowsPath('processed_data/MATR_b1c39.pkl'), WindowsPath('processed_data/MATR_b1c41.pkl'), WindowsPath('processed_data/MATR_b1c43.pkl'), WindowsPath('processed_data/MATR_b1c45.pkl'), WindowsPath('processed_data/MATR_b2c3.pkl'), WindowsPath('processed_data/MATR_b2c5.pkl'), WindowsPath('processed_data/MATR_b2c10.pkl'), WindowsPath('processed_data/MATR_b2c12.pkl'), WindowsPath('processed_data/MATR_b2c14.pkl'), WindowsPath('processed_data/MATR_b2c18.pkl'), WindowsPath('processed_data/MATR_b2c20.pkl'), WindowsPath('processed_data/MATR_b2c22.pkl'), WindowsPath('processed_data/MATR_b2c24.pkl'), WindowsPath('processed_data/MATR_b2c26.pkl'), WindowsPath('processed_data/MATR_b2c28.pkl'), WindowsPath('processed_data/MATR_b2c30.pkl'), WindowsPath('processed_data/MATR_b2c32.pkl'), WindowsPath('processed_data/MATR_b2c34.pkl'), WindowsPath('processed_data/MATR_b2c36.pkl'), WindowsPath('processed_data/MATR_b2c38.pkl'), WindowsPath('processed_data/MATR_b2c40.pkl'), WindowsPath('processed_data/MATR_b2c42.pkl'), WindowsPath('processed_data/MATR_b2c44.pkl'), WindowsPath('processed_data/MATR_b2c46.pkl'), WindowsPath('processed_data/MATR_b2c47.pkl')]\n"
     ]
    },
    {
     "name": "stderr",
     "output_type": "stream",
     "text": [
      "Reading train data: 100%|██████████████████████████████████████████████████████████████| 41/41 [00:44<00:00,  1.07s/it]\n",
      "Reading test data:  26%|████████████████▌                                              | 11/42 [00:42<00:46,  1.51s/it]"
     ]
    }
   ],
   "source": [
    "# Import necessary modules\n",
    "from batteryml.pipeline import Pipeline\n",
    "from batteryml.visualization.plot_helper import plot_result\n",
    "\n",
    "# Create a pipeline with a config file by specifying the config_path and workspace.\n",
    "# Developers need to modify the data, feature, model and other related settings in the config file in advance.\n",
    "pipeline = Pipeline(config_path='configs/baselines/sklearn/variance_model/ma.yaml', workspace='workspaces')\n",
    "print(pipeline)\n",
    "\n",
    "# Model training. The training process will follow the config file, and the checkpoints will be saved to workspace.\n",
    "model, dataset = pipeline.train(device='cpu', skip_if_executed=False)\n",
    "\n",
    "# Evaluate the trained model on the given dataset.\n",
    "pipeline.evaluate(model=model, dataset=dataset, skip_if_executed=False)\n",
    "\n",
    "# Generate predictions on the test data.\n",
    "prediction = model.predict(dataset, data_type='test').to('cpu')\n",
    "\n",
    "# Extract ground truth labels for the test data.\n",
    "ground_truth = dataset.test_data.label.to('cpu')\n",
    "\n",
    "# Plot the results to visualize model performance.\n",
    "plot_result(ground_truth, prediction)\n"
   ]
  },
  {
   "cell_type": "code",
   "execution_count": null,
   "id": "de1da5f4-aa82-4d1b-9ff1-6116df8a409a",
   "metadata": {},
   "outputs": [],
   "source": []
  }
 ],
 "metadata": {
  "kernelspec": {
   "display_name": "Python 3 (ipykernel)",
   "language": "python",
   "name": "python3"
  },
  "language_info": {
   "codemirror_mode": {
    "name": "ipython",
    "version": 3
   },
   "file_extension": ".py",
   "mimetype": "text/x-python",
   "name": "python",
   "nbconvert_exporter": "python",
   "pygments_lexer": "ipython3",
   "version": "3.12.1"
  }
 },
 "nbformat": 4,
 "nbformat_minor": 5
}
